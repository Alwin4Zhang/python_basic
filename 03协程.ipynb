{
 "cells": [
  {
   "cell_type": "markdown",
   "metadata": {},
   "source": [
    "# 生成器的回顾，yield方法的执行流程"
   ]
  },
  {
   "cell_type": "code",
   "execution_count": 1,
   "metadata": {
    "ExecuteTime": {
     "end_time": "2020-06-14T03:11:13.379765Z",
     "start_time": "2020-06-14T03:11:13.365545Z"
    }
   },
   "outputs": [
    {
     "name": "stdout",
     "output_type": "stream",
     "text": [
      "我在这...\n",
      "lalala\n",
      "我在这...\n"
     ]
    },
    {
     "data": {
      "text/plain": [
       "1"
      ]
     },
     "execution_count": 1,
     "metadata": {},
     "output_type": "execute_result"
    }
   ],
   "source": [
    "def generate():\n",
    "    i = 0\n",
    "    while i < 5:\n",
    "        print(\"我在这...\")\n",
    "        xx = yield i \n",
    "        print(xx)\n",
    "        i += 1\n",
    "        \n",
    "g = generate()\n",
    "g.send(None)\n",
    "\n",
    "g.send(\"lalala\")"
   ]
  },
  {
   "cell_type": "code",
   "execution_count": 3,
   "metadata": {
    "ExecuteTime": {
     "end_time": "2020-06-14T03:21:01.994493Z",
     "start_time": "2020-06-14T03:21:01.986941Z"
    }
   },
   "outputs": [],
   "source": [
    "\"\"\"\n",
    "通过生成器实现生产者-消费者模型，生产者生产消息后，直接通过yield跳转到消费者开始执行，\n",
    "待消费者执行完毕后，切换回生产者继续生产，效率极高\n",
    "\"\"\"\n",
    "\n",
    "def consumer():\n",
    "    print(\"--4.开始执行生成器代码--\")\n",
    "    response = None\n",
    "    while True:\n",
    "        print(\"--5.yield，中断、保存上下文--\")\n",
    "        n = yield response \n",
    "        print(\"--8.获取上下文，继续往下执行--\")\n",
    "        if not n:\n",
    "            return\n",
    "        print(\"[Consumer]:consuming {} ..\".format(n))\n",
    "        response = \"OK\"\n",
    "\n",
    "def produce(c):\n",
    "    print(\"--3.启动生成器，开始执行生成器consumer--\")\n",
    "    c.send(None)\n",
    "    print(\"--6.继续往下执行--\")\n",
    "    n = 0\n",
    "    while n < 5:\n",
    "        n += 1\n",
    "        print(\"[Producer]:producing {}...\".format(n))\n",
    "        print(\"--7.第{}次唤醒生成器，从yield位置往下继续执行!--\".format(n+1))\n",
    "        r = c.send(n) # 第二次唤醒生成器\n",
    "        print(\"--9.从第8步往下--\")\n",
    "        print(\"[Producer]:consumer return {}..\".format(r))\n",
    "    c.close()"
   ]
  },
  {
   "cell_type": "code",
   "execution_count": 4,
   "metadata": {
    "ExecuteTime": {
     "end_time": "2020-06-14T03:21:22.219481Z",
     "start_time": "2020-06-14T03:21:22.214437Z"
    }
   },
   "outputs": [
    {
     "name": "stdout",
     "output_type": "stream",
     "text": [
      "--3.启动生成器，开始执行生成器consumer--\n",
      "--4.开始执行生成器代码--\n",
      "--5.yield，中断、保存上下文--\n",
      "--6.继续往下执行--\n",
      "[Producer]:producing 1...\n",
      "--7.第2次唤醒生成器，从yield位置往下继续执行!--\n",
      "--8.获取上下文，继续往下执行--\n",
      "[Consumer]:consuming 1 ..\n",
      "--5.yield，中断、保存上下文--\n",
      "--9.从第8步往下--\n",
      "[Producer]:consumer return OK..\n",
      "[Producer]:producing 2...\n",
      "--7.第3次唤醒生成器，从yield位置往下继续执行!--\n",
      "--8.获取上下文，继续往下执行--\n",
      "[Consumer]:consuming 2 ..\n",
      "--5.yield，中断、保存上下文--\n",
      "--9.从第8步往下--\n",
      "[Producer]:consumer return OK..\n",
      "[Producer]:producing 3...\n",
      "--7.第4次唤醒生成器，从yield位置往下继续执行!--\n",
      "--8.获取上下文，继续往下执行--\n",
      "[Consumer]:consuming 3 ..\n",
      "--5.yield，中断、保存上下文--\n",
      "--9.从第8步往下--\n",
      "[Producer]:consumer return OK..\n",
      "[Producer]:producing 4...\n",
      "--7.第5次唤醒生成器，从yield位置往下继续执行!--\n",
      "--8.获取上下文，继续往下执行--\n",
      "[Consumer]:consuming 4 ..\n",
      "--5.yield，中断、保存上下文--\n",
      "--9.从第8步往下--\n",
      "[Producer]:consumer return OK..\n",
      "[Producer]:producing 5...\n",
      "--7.第6次唤醒生成器，从yield位置往下继续执行!--\n",
      "--8.获取上下文，继续往下执行--\n",
      "[Consumer]:consuming 5 ..\n",
      "--5.yield，中断、保存上下文--\n",
      "--9.从第8步往下--\n",
      "[Producer]:consumer return OK..\n"
     ]
    }
   ],
   "source": [
    "c = consumer()\n",
    "produce(c) # 运行produce函数"
   ]
  },
  {
   "cell_type": "markdown",
   "metadata": {},
   "source": [
    "# 使用greenlet实现协程"
   ]
  },
  {
   "cell_type": "code",
   "execution_count": 7,
   "metadata": {
    "ExecuteTime": {
     "end_time": "2020-06-14T03:28:24.847751Z",
     "start_time": "2020-06-14T03:28:24.845119Z"
    }
   },
   "outputs": [],
   "source": [
    "from greenlet import greenlet\n",
    "import time"
   ]
  },
  {
   "cell_type": "code",
   "execution_count": 9,
   "metadata": {
    "ExecuteTime": {
     "end_time": "2020-06-14T03:40:33.039089Z",
     "start_time": "2020-06-14T03:40:27.391043Z"
    }
   },
   "outputs": [
    {
     "name": "stdout",
     "output_type": "stream",
     "text": [
      "--This is task 1!--\n",
      "--This is task 2!--\n",
      "--This is task 1!--\n",
      "--This is task 2!--\n",
      "--This is task 1!--\n",
      "--This is task 2!--\n",
      "--This is task 1!--\n",
      "--This is task 2!--\n",
      "--This is task 1!--\n",
      "--This is task 2!--\n",
      "--This is task 1!--\n",
      "--This is task 2!--\n",
      "--This is task 1!--\n"
     ]
    },
    {
     "ename": "KeyboardInterrupt",
     "evalue": "",
     "output_type": "error",
     "traceback": [
      "\u001b[0;31m---------------------------------------------------------------------------\u001b[0m",
      "\u001b[0;31mKeyboardInterrupt\u001b[0m                         Traceback (most recent call last)",
      "\u001b[0;32m<ipython-input-9-7341da27d296>\u001b[0m in \u001b[0;36m<module>\u001b[0;34m\u001b[0m\n\u001b[1;32m     14\u001b[0m \u001b[0mg2\u001b[0m \u001b[0;34m=\u001b[0m \u001b[0mgreenlet\u001b[0m\u001b[0;34m(\u001b[0m\u001b[0mtask2\u001b[0m\u001b[0;34m)\u001b[0m\u001b[0;34m\u001b[0m\u001b[0;34m\u001b[0m\u001b[0m\n\u001b[1;32m     15\u001b[0m \u001b[0;34m\u001b[0m\u001b[0m\n\u001b[0;32m---> 16\u001b[0;31m \u001b[0mg1\u001b[0m\u001b[0;34m.\u001b[0m\u001b[0mswitch\u001b[0m\u001b[0;34m(\u001b[0m\u001b[0;34m)\u001b[0m \u001b[0;31m# 切换到g1中运行\u001b[0m\u001b[0;34m\u001b[0m\u001b[0;34m\u001b[0m\u001b[0m\n\u001b[0m",
      "\u001b[0;32m<ipython-input-9-7341da27d296>\u001b[0m in \u001b[0;36mtask2\u001b[0;34m()\u001b[0m\n\u001b[1;32m      9\u001b[0m         \u001b[0mprint\u001b[0m\u001b[0;34m(\u001b[0m\u001b[0;34m\"--This is task 2!--\"\u001b[0m\u001b[0;34m)\u001b[0m\u001b[0;34m\u001b[0m\u001b[0;34m\u001b[0m\u001b[0m\n\u001b[1;32m     10\u001b[0m         \u001b[0mg1\u001b[0m\u001b[0;34m.\u001b[0m\u001b[0mswitch\u001b[0m\u001b[0;34m(\u001b[0m\u001b[0;34m)\u001b[0m\u001b[0;34m\u001b[0m\u001b[0;34m\u001b[0m\u001b[0m\n\u001b[0;32m---> 11\u001b[0;31m         \u001b[0mtime\u001b[0m\u001b[0;34m.\u001b[0m\u001b[0msleep\u001b[0m\u001b[0;34m(\u001b[0m\u001b[0;36m0.5\u001b[0m\u001b[0;34m)\u001b[0m\u001b[0;34m\u001b[0m\u001b[0;34m\u001b[0m\u001b[0m\n\u001b[0m\u001b[1;32m     12\u001b[0m \u001b[0;34m\u001b[0m\u001b[0m\n\u001b[1;32m     13\u001b[0m \u001b[0mg1\u001b[0m \u001b[0;34m=\u001b[0m \u001b[0mgreenlet\u001b[0m\u001b[0;34m(\u001b[0m\u001b[0mtask1\u001b[0m\u001b[0;34m)\u001b[0m\u001b[0;34m\u001b[0m\u001b[0;34m\u001b[0m\u001b[0m\n",
      "\u001b[0;31mKeyboardInterrupt\u001b[0m: "
     ]
    }
   ],
   "source": [
    "def task1():\n",
    "    while True:\n",
    "        print(\"--This is task 1!--\")\n",
    "        g2.switch() # 切换到g2中运行-\n",
    "        time.sleep(0.5)\n",
    "\n",
    "def task2():\n",
    "    while True:\n",
    "        print(\"--This is task 2!--\")\n",
    "        g1.switch()\n",
    "        time.sleep(0.5)\n",
    "        \n",
    "g1 = greenlet(task1)\n",
    "g2 = greenlet(task2)\n",
    "\n",
    "g1.switch() # 切换到g1中运行"
   ]
  },
  {
   "cell_type": "code",
   "execution_count": 25,
   "metadata": {
    "ExecuteTime": {
     "end_time": "2020-06-14T04:07:58.905271Z",
     "start_time": "2020-06-14T04:07:53.892791Z"
    }
   },
   "outputs": [
    {
     "name": "stdout",
     "output_type": "stream",
     "text": [
      "<Greenlet at 0x106a98048: task_1(5)> 0\n",
      "<Greenlet at 0x106a98348: task_1(5)> 0\n",
      "<Greenlet at 0x106a98448: task_1(5)> 0\n",
      "<Greenlet at 0x106a98048: task_1(5)> 1\n",
      "<Greenlet at 0x106a98348: task_1(5)> 1\n",
      "<Greenlet at 0x106a98448: task_1(5)> 1\n",
      "<Greenlet at 0x106a98048: task_1(5)> 2\n",
      "<Greenlet at 0x106a98348: task_1(5)> 2\n",
      "<Greenlet at 0x106a98448: task_1(5)> 2\n",
      "<Greenlet at 0x106a98048: task_1(5)> 3\n",
      "<Greenlet at 0x106a98348: task_1(5)> 3\n",
      "<Greenlet at 0x106a98448: task_1(5)> 3\n",
      "<Greenlet at 0x106a98048: task_1(5)> 4\n",
      "<Greenlet at 0x106a98348: task_1(5)> 4\n",
      "<Greenlet at 0x106a98448: task_1(5)> 4\n"
     ]
    }
   ],
   "source": [
    "\"\"\"\n",
    "上述的greenlet模块实现了协程，但是需要人工切换，很麻烦。\n",
    "python中还有一个比greenlet更强大的并且能够自动切换任务模块gevent\n",
    "其原理就是当一个greenlet遇到IO(比如网络、文件操作等)操作时，\n",
    "比如网络访问，就自动切换到其他的greenlet，等到IO操作完成时，再在适当的时候切换回来继续执行‘\n",
    "由于IO操作非常耗时，经常时程序处于等待状态，有了gevent为我们自动切换协程，就保证总有greenlet在运行，而不是等待IO\n",
    "\"\"\"\n",
    "\n",
    "import gevent\n",
    "\n",
    "def task_1(num):\n",
    "    for i in range(num):\n",
    "        print(gevent.getcurrent(), i)\n",
    "        gevent.sleep(1)  # 模拟一个耗时操作，注意不能使用time模块的sleep\n",
    "        \n",
    "g1 = gevent.spawn(task_1, 5)  # 创建协程\n",
    "g2 = gevent.spawn(task_1, 5)\n",
    "g3 = gevent.spawn(task_1, 5)\n",
    "\n",
    "g1.join()  # 等待协程运行完毕\n",
    "g2.join()\n",
    "g3.join()"
   ]
  },
  {
   "cell_type": "code",
   "execution_count": null,
   "metadata": {
    "ExecuteTime": {
     "start_time": "2020-06-14T04:08:27.810Z"
    }
   },
   "outputs": [
    {
     "name": "stdout",
     "output_type": "stream",
     "text": [
      "task_1 0\n",
      "task_2 0\n",
      "task_1 1\n",
      "task_2 1\n",
      "task_1 2\n",
      "task_2 2\n",
      "task_1 3\n",
      "task_1 4\n",
      "the main thread!\n"
     ]
    }
   ],
   "source": [
    "# monkey补丁 不必强制使用gevent里面的sleep、socket等等了\n",
    "\n",
    "from gevent import monkey\n",
    "import gevent\n",
    "import random\n",
    "import time\n",
    "\n",
    "def task_1(name):\n",
    "    for i in range(5):\n",
    "        print(name, i)\n",
    "        time.sleep(1)  # 协程遇到耗时操作后会自动切换其他协程运行\n",
    "        \n",
    "def task_2(name):\n",
    "    for i in range(3):\n",
    "        print(name, i)\n",
    "        time.sleep(1)\n",
    "        \n",
    "if __name__ == \"__main__\":\n",
    "    monkey.patch_all()  # 给所有的耗时操作打上补丁\n",
    "\n",
    "    gevent.joinall([  # 等到协程运行完毕\n",
    "        gevent.spawn(task_1, \"task_1\"),  # 创建协程\n",
    "        gevent.spawn(task_2, \"task_2\")\n",
    "    ])\n",
    "    print(\"the main thread!\")"
   ]
  },
  {
   "cell_type": "markdown",
   "metadata": {},
   "source": [
    "# 异步协程"
   ]
  },
  {
   "cell_type": "raw",
   "metadata": {},
   "source": [
    "1、event_loop 事件循环：相当于一个无限循环，我们可以把一些函数注册到这个事件循环上，当满足条件时，就会调用对应的处理方法。\n",
    "2、coroutine 协程：协程对象，只一个使用async关键字定义的函数，他的调用不会立即执行函数，而是会返回一个协程对象。协程对象需要注册到事件循环中，由事件循环调用。\n",
    "3、task 任务：一个协程对象就是一个原生可以挂起的函数，任务则是对协程的进一步封装，其中包含任务的各种状态。\n",
    "4、future：代表将来执行或没有执行的任务结果。它与task没有本质的区别。\n",
    "5、async/await 关键字：python3.5用于定义协程的关键字，async定义一个协程，await用于挂起阻塞的异步调用接口。"
   ]
  },
  {
   "cell_type": "markdown",
   "metadata": {},
   "source": [
    "## 1、定义一个协程 "
   ]
  },
  {
   "cell_type": "code",
   "execution_count": 4,
   "metadata": {
    "ExecuteTime": {
     "end_time": "2020-06-14T04:31:09.558516Z",
     "start_time": "2020-06-14T04:31:09.551749Z"
    }
   },
   "outputs": [
    {
     "name": "stdout",
     "output_type": "stream",
     "text": [
      "Work 1 is running ..\n",
      "Work 1 is running ..\n",
      "Work 1 is running ..\n",
      "None\n"
     ]
    }
   ],
   "source": [
    "\"\"\"\n",
    "定义一个协程，通过async定义一个协程，协程是一个对象，不能直接运行。\n",
    "需要把协程加入到事件循环loop中，由loop在适当的时候调用协程。asyncio.get_event_loop()方法可以创建一个\n",
    "事件循环，然后由run_until_complete 协程对象 将协程注册到时间循环中，并启动事件循环。\n",
    "\n",
    "run_until_complete根据传递的参数的不同，返回的结果也有所不同\n",
    "\n",
    "1、run_until_complete()传递的是一个协程对象或task对象，则返回他们finished的返回结果（前提是他们得有return的结果，否则返回None）\n",
    "2、run_until_complete(asyncio.wait(多个协程对象或任务))，函数会返回一个元组包括（done, pending），通过访问done里的task对象，获取返回值\n",
    "3、run_until_complete(asyncio.gather(多个协程对象或任务))，函数会返回一个列表，列表里面包括各个任务的返回结果，按顺序排列\n",
    "\n",
    "python 3.7 以前的版本调用异步函数的步骤：\n",
    "\n",
    "1、调用asyncio.get_event_loop()函数获取事件循环loop对象\n",
    "2、通过不同的策略调用loop.run_forever()方法或者loop.run_until_complete()方法执行异步函数\n",
    "\n",
    "python3.7 以后的版本使用asyncio.run即可。此函数总是会创建一个新的事件循环并在结束时关闭之。它应当被用作 asyncio 程序的主入口点，理想情况下应当只被调用一次。\n",
    "\"\"\"\n",
    "\n",
    "import asyncio\n",
    "# 如果在pycharm中不需要添加后面两行\n",
    "import nest_asyncio\n",
    "nest_asyncio.apply()\n",
    "\n",
    "async def work(x):  # 通过async关键字定义一个协程\n",
    "    for _ in range(3):\n",
    "        print('Work {} is running ..'.format(x))\n",
    "\n",
    "coroutine_1 = work(1)  # 协程是一个对象，不能直接运行\n",
    "\n",
    "# 方式一：\n",
    "loop = asyncio.get_event_loop()  # 创建一个事件循环\n",
    "result = loop.run_until_complete(coroutine_1)  # 将协程对象加入到事件循环中，并执行\n",
    "print(result)  # 协程对象并没有返回结果，打印None\n",
    "# 方式二：\n",
    "# asyncio.run(coroutine_1)  #创建一个新的事件循环，并以coroutine_1为程序的主入口，执行完毕后关闭事件循环"
   ]
  },
  {
   "cell_type": "code",
   "execution_count": 10,
   "metadata": {
    "ExecuteTime": {
     "end_time": "2020-06-14T04:35:25.348230Z",
     "start_time": "2020-06-14T04:35:24.342433Z"
    }
   },
   "outputs": [
    {
     "name": "stdout",
     "output_type": "stream",
     "text": [
      "hello\n",
      "world\n"
     ]
    }
   ],
   "source": [
    "import asyncio\n",
    "import nest_asyncio\n",
    "nest_asyncio.apply()\n",
    "\n",
    "async def main():\n",
    "    print(\"hello\")\n",
    "    await asyncio.sleep(1)\n",
    "    print(\"world\")\n",
    "    \n",
    "# async def main2():\n",
    "#     print(\"hello1\")\n",
    "#     await asyncio.sleep(1)\n",
    "#     print(\"world2\")\n",
    "    \n",
    "# asyncio.run(main2())\n",
    "\n",
    "asyncio.run(main())  # 在事件循环中只有一个协程，所以没有挂起任务执行其他任务这一过程\n",
    "\n",
    "\n",
    "# 运行结果先打印hello然后等待1秒打印world"
   ]
  },
  {
   "cell_type": "markdown",
   "metadata": {},
   "source": [
    "## 2、创建一个task "
   ]
  },
  {
   "cell_type": "raw",
   "metadata": {},
   "source": [
    "协程对象不能直接运行，在注册到事件循环的时候，其实是run_until_complete方法将协程包装成一个task对象，所谓的task对象就是Future类的子类，它保存了协程运行后的状态，用于未来获取协程的结果。\n",
    "\n",
    "创建task后，task在加入事件循环之前是pending状态，因为下例中没有耗时操作，task很快会完成，后面打印finished状态。"
   ]
  },
  {
   "cell_type": "code",
   "execution_count": 16,
   "metadata": {
    "ExecuteTime": {
     "end_time": "2020-06-14T04:44:09.265291Z",
     "start_time": "2020-06-14T04:44:09.259058Z"
    }
   },
   "outputs": [
    {
     "name": "stdout",
     "output_type": "stream",
     "text": [
      "<Task pending coro=<work() running at <ipython-input-16-823ea7a95887>:5>>\n",
      "Work 1 is running ..\n",
      "Work 1 is running ..\n",
      "Work 1 is running ..\n",
      "<Task finished coro=<work() done, defined at <ipython-input-16-823ea7a95887>:5> result=None>\n"
     ]
    }
   ],
   "source": [
    "import asyncio\n",
    "import nest_asyncio\n",
    "nest_asyncio.apply()\n",
    "\n",
    "async def work(x):  # 通过async关键字定义一个协程\n",
    "    for _ in range(3):\n",
    "        print('Work {} is running ..'.format(x))\n",
    "\n",
    "coroutine_1 = work(1)  # 协程是一个对象，不能直接运行\n",
    " \n",
    "loop = asyncio.get_event_loop()\n",
    "task = loop.create_task(coroutine_1)\n",
    "# task = asyncio.ensure_future(coroutine_1)  # 这样也能创建一个task\n",
    "print(task)\n",
    "loop.run_until_complete(task)  # run_until_complete接受的参数是一个future对象，当传人一个协程时，其内部自动封装成task\n",
    "print(task)\n",
    "# print(type(task).__repr__)"
   ]
  },
  {
   "cell_type": "markdown",
   "metadata": {},
   "source": [
    "## 3、绑定回调"
   ]
  },
  {
   "cell_type": "raw",
   "metadata": {},
   "source": [
    "在task执行完毕的时候可以获取执行的结果，回调的最后一个参数是future对象，通过这个对象可以获取协程的返回值，如果回调函数需要多个参数，可以通过偏函数导入。\n",
    "从下例可以看出，coroutine执行结束时候会调用回调函数，并通过future获取协程返回（return）的结果。我们创建的task和回调里面的future对象，实际上是同一个对象。"
   ]
  },
  {
   "cell_type": "code",
   "execution_count": 20,
   "metadata": {
    "ExecuteTime": {
     "end_time": "2020-06-14T04:49:17.564173Z",
     "start_time": "2020-06-14T04:49:17.555024Z"
    }
   },
   "outputs": [
    {
     "name": "stdout",
     "output_type": "stream",
     "text": [
      "Work 1 is running ..\n",
      "Work 1 is running ..\n",
      "Work 1 is running ..\n",
      "1...\n",
      "2...\n",
      "Work 1 is finished\n",
      "Callback: Work 1 is finished\n"
     ]
    },
    {
     "data": {
      "text/plain": [
       "'Work 1 is finished'"
      ]
     },
     "execution_count": 20,
     "metadata": {},
     "output_type": "execute_result"
    }
   ],
   "source": [
    "import asyncio\n",
    "\n",
    "async def work(x):\n",
    "    for _ in range(3):\n",
    "        print('Work {} is running ..'.format(x))\n",
    "    print(\"1...\")\n",
    "    return \"Work {} is finished\".format(x)\n",
    "\n",
    "def call_back(future):\n",
    "    print(\"2...\")\n",
    "    print(future.result())\n",
    "    print(\"Callback: {}\".format(future.result()))\n",
    "    \n",
    "coroutine = work(1)\n",
    "loop = asyncio.get_event_loop()\n",
    "task = asyncio.ensure_future(coroutine)\n",
    "task.add_done_callback(call_back)\n",
    "loop.run_until_complete(task)  # 返回任务的结果"
   ]
  },
  {
   "cell_type": "code",
   "execution_count": 18,
   "metadata": {
    "ExecuteTime": {
     "end_time": "2020-06-14T04:47:48.932488Z",
     "start_time": "2020-06-14T04:47:48.927182Z"
    }
   },
   "outputs": [
    {
     "name": "stdout",
     "output_type": "stream",
     "text": [
      "3 3\n"
     ]
    }
   ],
   "source": [
    "\"\"\"\n",
    "当回调函数需要传递多个参数时，可以使用functools里的partial方法（偏函数导入这些参数）\n",
    "functools.partial(func, * args, * * keywords)，函数装饰器，返回一个新的partial对象。调用partial对象和调用被修饰的函数func相同，只不过调用partial对象时传入的参数个数通常要少于调用func时传入的参数个数。当一个函数func可以接收很多参数，而某一次使用只需要更改其中的一部分参数，其他的参数都保持不变时，partial对象就可以将这些不变的对象冻结起来，这样调用partial对象时传入未冻结的参数，partial对象调用func时连同已经被冻结的参数一同传给func函数，从而可以简化调用过程。\n",
    "\n",
    "如果调用partial对象时提供了更多的参数，那么他们会被添加到args的后面，如果提供了更多的关键字参数，那么它们将扩展或者覆盖已经冻结的关键字参数。\n",
    "\n",
    "具体的偏函数使用方法见下例：\n",
    "\"\"\"\n",
    "\n",
    "from functools import partial\n",
    "\n",
    "def func(a, b):\n",
    "    return a + b\n",
    "\n",
    "# 正常使用\n",
    "result = func(1, 2)\n",
    "\n",
    "# 使用偏函数导入一个参数，返回一个新函数\n",
    "new_func = partial(func, 1)  # 相当于把原函数中的第一个参数a固定一个值为1，新函数只需要传入一个参数b即可\n",
    "result2 = new_func(2)\n",
    "\n",
    "print(result, result2)"
   ]
  },
  {
   "cell_type": "code",
   "execution_count": 23,
   "metadata": {
    "ExecuteTime": {
     "end_time": "2020-06-14T04:51:38.504214Z",
     "start_time": "2020-06-14T04:51:38.495413Z"
    }
   },
   "outputs": [
    {
     "name": "stdout",
     "output_type": "stream",
     "text": [
      "Work 1 is running ..\n",
      "Work 1 is running ..\n",
      "Work 1 is running ..\n",
      "Callback_2: Work 1 is finished, the num is 100\n"
     ]
    },
    {
     "data": {
      "text/plain": [
       "'Work 1 is finished'"
      ]
     },
     "execution_count": 23,
     "metadata": {},
     "output_type": "execute_result"
    }
   ],
   "source": [
    "import asyncio\n",
    "import functools\n",
    "\n",
    "async def work(x):\n",
    "    for _ in range(3):\n",
    "        print('Work {} is running ..'.format(x))\n",
    "    return \"Work {} is finished\".format(x)\n",
    "\n",
    "    \n",
    "def call_back_2(num, future):\n",
    "    print(\"Callback_2: {}, the num is {}\".format(future.result(), num))\n",
    "    \n",
    "coroutine = work(1)\n",
    "loop = asyncio.get_event_loop()\n",
    "task = asyncio.ensure_future(coroutine)\n",
    "task.add_done_callback(functools.partial(call_back_2, 100))\n",
    "loop.run_until_complete(task)"
   ]
  },
  {
   "cell_type": "code",
   "execution_count": 25,
   "metadata": {
    "ExecuteTime": {
     "end_time": "2020-06-14T04:53:33.061635Z",
     "start_time": "2020-06-14T04:53:33.055475Z"
    }
   },
   "outputs": [
    {
     "name": "stdout",
     "output_type": "stream",
     "text": [
      "Work 1 is running ..\n",
      "Work 1 is running ..\n",
      "Work 1 is running ..\n",
      "The task's result is 'Work 1 is finished'\n"
     ]
    }
   ],
   "source": [
    "# 在不绑定回调函数的时候，当task处于finished的状态时，可以直接读取task的result的值\n",
    "\n",
    "import asyncore\n",
    "\n",
    "async def work(x):\n",
    "    for _ in range(3):\n",
    "        print(\"Work {} is running ..\".format(x))\n",
    "    return \"Work {} is finished\".format(x)\n",
    "\n",
    "coroutine = work(1)\n",
    "loop = asyncio.get_event_loop()\n",
    "task = asyncio.ensure_future(coroutine)\n",
    "loop.run_until_complete(task)\n",
    "# finished状态后 可以直接读取task的result的值\n",
    "print(\"The task's result is '{}'\".format(task.result()))"
   ]
  },
  {
   "cell_type": "raw",
   "metadata": {},
   "source": [
    "4、阻塞和await 使用async可以定义协程对象，使用await可以正对耗时操作进行挂起，就像生成器里的yield一样，函数让出控制权。 协程遇到await，事件循环就会挂起这个协程，执行别的协程，直到其他协程也挂起或执行完毕，在进行下一个协程的执行。\n",
    "如果一个对象可以在 await 语句中使用，那么它就是 可等待 对象。\n",
    "\n",
    "耗时操作一般指IO操作： 网络请求，文件读取等，使用asyncio.sleep模拟耗时操作。协程的目的也是让这些IO操作异步化。"
   ]
  },
  {
   "cell_type": "code",
   "execution_count": 26,
   "metadata": {
    "ExecuteTime": {
     "end_time": "2020-06-14T05:01:23.871648Z",
     "start_time": "2020-06-14T05:01:20.854681Z"
    }
   },
   "outputs": [
    {
     "name": "stdout",
     "output_type": "stream",
     "text": [
      "Task C: Compute factorial(2)...\n",
      "Task B: Compute factorial(2)...\n",
      "Task A: Compute factorial(2)...\n",
      "Task C: Compute factorial(3)...\n",
      "Task B: Compute factorial(3)...\n",
      "Task A: factorial(2) = 2\n",
      "Task C: Compute factorial(4)...\n",
      "Task B: factorial(3) = 6\n",
      "Task C: factorial(4) = 24\n",
      "['Task A: Finished!', 'Task B: Finished!', 'Task C: Finished!']\n"
     ]
    }
   ],
   "source": [
    "# 并发运行任务的案例\n",
    "\n",
    "import asyncio\n",
    "\n",
    "async def factorial(name, number):\n",
    "    f = 1\n",
    "    for i in range(2, number + 1):\n",
    "        print(f\"Task {name}: Compute factorial({i})...\")  # python3.7新语法，了解一波\n",
    "        await asyncio.sleep(1)  # await后面是 可等待对象\n",
    "        f *= i\n",
    "    print(f\"Task {name}: factorial({number}) = {f}\")\n",
    "    \n",
    "    return f\"Task {name}: Finished!\"\n",
    "\n",
    "async def main():\n",
    "    # Schedule three calls *concurrently*:\n",
    "    results = await asyncio.gather(  # results包含所有任务的返回结果，是一个列表，按执行顺序返回结果\n",
    "        factorial(\"A\", 2),  # 协程，会自动调度为任务\n",
    "        factorial(\"B\", 3),\n",
    "        factorial(\"C\", 4),\n",
    "    )\n",
    "    print(results)\n",
    "\n",
    "asyncio.run(main())  # 协程的嵌套，后面有详解"
   ]
  },
  {
   "cell_type": "code",
   "execution_count": 27,
   "metadata": {
    "ExecuteTime": {
     "end_time": "2020-06-14T05:02:45.419989Z",
     "start_time": "2020-06-14T05:02:44.409363Z"
    }
   },
   "outputs": [
    {
     "name": "stdout",
     "output_type": "stream",
     "text": [
      "timeout!\n"
     ]
    }
   ],
   "source": [
    "# 超时的案例\n",
    "import asyncio\n",
    "\n",
    "async def eternity():\n",
    "    # Sleep for one hour\n",
    "    # await asyncio.sleep(0.5)\n",
    "    await asyncio.sleep(3600)\n",
    "    print('yay!')\n",
    "\n",
    "async def main():\n",
    "    # Wait for at most 1 second\n",
    "    try:\n",
    "        await asyncio.wait_for(eternity(), timeout=1.0)  # 等待 可等待对象 完成，超过timeout秒后，抛出asyncio.TimeoutError异常\n",
    "    except asyncio.TimeoutError:\n",
    "        print('timeout!')\n",
    "\n",
    "asyncio.run(main())"
   ]
  },
  {
   "cell_type": "code",
   "execution_count": 29,
   "metadata": {
    "ExecuteTime": {
     "end_time": "2020-06-14T05:03:25.515140Z",
     "start_time": "2020-06-14T05:03:25.504402Z"
    }
   },
   "outputs": [
    {
     "ename": "AttributeError",
     "evalue": "module 'asyncio' has no attribute 'create_task'",
     "output_type": "error",
     "traceback": [
      "\u001b[0;31m---------------------------------------------------------------------------\u001b[0m",
      "\u001b[0;31mAttributeError\u001b[0m                            Traceback (most recent call last)",
      "\u001b[0;32m<ipython-input-29-fc9aa6eaa483>\u001b[0m in \u001b[0;36masync-def-wrapper\u001b[0;34m()\u001b[0m\n\u001b[1;32m     11\u001b[0m \u001b[0;31m# 注意：1、这里传递的要是一个任务组，而不能是单个task，如果只有一个任务，可以这样传递：[task](task,){task}\u001b[0m\u001b[0;34m\u001b[0m\u001b[0;34m\u001b[0m\u001b[0;34m\u001b[0m\u001b[0m\n\u001b[1;32m     12\u001b[0m \u001b[0;31m#       2、直接传递协程对象的方式已弃用 即：done, pending = await asyncio.wait([foo()])\u001b[0m\u001b[0;34m\u001b[0m\u001b[0;34m\u001b[0m\u001b[0;34m\u001b[0m\u001b[0m\n\u001b[0;32m---> 13\u001b[0;31m \u001b[0mdone\u001b[0m\u001b[0;34m,\u001b[0m \u001b[0mpending\u001b[0m \u001b[0;34m=\u001b[0m \u001b[0mawait\u001b[0m \u001b[0masyncio\u001b[0m\u001b[0;34m.\u001b[0m\u001b[0mwait\u001b[0m\u001b[0;34m(\u001b[0m\u001b[0;34m(\u001b[0m\u001b[0mtask\u001b[0m\u001b[0;34m,\u001b[0m \u001b[0;34m)\u001b[0m\u001b[0;34m)\u001b[0m\u001b[0;34m\u001b[0m\u001b[0;34m\u001b[0m\u001b[0m\n\u001b[0m\u001b[1;32m     14\u001b[0m \u001b[0;34m\u001b[0m\u001b[0m\n\u001b[1;32m     15\u001b[0m \u001b[0;32mif\u001b[0m \u001b[0mtask\u001b[0m \u001b[0;32min\u001b[0m \u001b[0mdone\u001b[0m\u001b[0;34m:\u001b[0m\u001b[0;34m\u001b[0m\u001b[0;34m\u001b[0m\u001b[0m\n",
      "\u001b[0;31mAttributeError\u001b[0m: module 'asyncio' has no attribute 'create_task'"
     ]
    }
   ],
   "source": [
    "# 简单等待的案例\n",
    "\n",
    "import asyncio\n",
    "\n",
    "async def foo():\n",
    "    return 42\n",
    "\n",
    "task = asyncio.create_task(foo())\n",
    "# 注意：1、这里传递的要是一个任务组，而不能是单个task，如果只有一个任务，可以这样传递：[task](task,){task}\n",
    "#      2、直接传递协程对象的方式已弃用 即：done, pending = await asyncio.wait([foo()])\n",
    "done, pending = await asyncio.wait((task, ))\n",
    "\n",
    "if task in done:\n",
    "    print(f\"The task's result is {task.result()}\")"
   ]
  },
  {
   "cell_type": "code",
   "execution_count": 33,
   "metadata": {
    "ExecuteTime": {
     "end_time": "2020-06-14T05:10:14.413665Z",
     "start_time": "2020-06-14T05:10:07.392362Z"
    },
    "scrolled": true
   },
   "outputs": [
    {
     "name": "stdout",
     "output_type": "stream",
     "text": [
      "Starting 1\n",
      "Starting 1\n",
      "Work 1 is running ..\n",
      "Starting 2\n",
      "Work 2 is running ..\n",
      "Work 1 is running ..\n",
      "Work 2 is running ..\n",
      "Work 2 is running ..\n",
      "Work 1 is running ..\n",
      "Work 1 is finished\n",
      "Work 2 is finished\n"
     ]
    }
   ],
   "source": [
    "# 使用事件循环和asyncio.wait、asyncio.gather实现并发运行任务\n",
    "\n",
    "import asyncio, time\n",
    "\n",
    "async def work_1(x):\n",
    "    print(f\"Starting {x}\")\n",
    "    time.sleep(1)\n",
    "    print(f\"Starting {x}\")\n",
    "    for _ in range(3):\n",
    "        print(f\"Work {x} is running ..\")\n",
    "        await asyncio.sleep(2)  # 耗时操作，此时挂起该协程，执行其他协程\n",
    "    return f\"Work {x} is finished\"\n",
    "\n",
    "async def work_2(x):\n",
    "    print(f\"Starting {x}\")\n",
    "    for _ in range(3):\n",
    "        await asyncio.sleep(1)  # 耗时操作，此时挂起该协程，执行其他协程\n",
    "        print(f\"Work {x} is running ..\")\n",
    "    return f\"Work {x} is finished\"\n",
    "\n",
    "coroutine_1 = work_1(1)\n",
    "coroutine_2 = work_2(2)\n",
    "\n",
    "loop = asyncio.get_event_loop()  # 创建一个事件循环\n",
    "\n",
    "# 方式一，asyncio.wait(tasks)接受一个task列表  执行的顺序与列表里的任务顺序有关\n",
    "tasks = [\n",
    "    asyncio.ensure_future(coroutine_1),\n",
    "    asyncio.ensure_future(coroutine_2),\n",
    "]\n",
    "# 注册到事件循环中，并执行\n",
    "dones, pendings = loop.run_until_complete(asyncio.wait(tasks))  # loop.run_until_complete(asyncio.wait(tasks))的作用相当于：await asyncio.wait(tasks)\n",
    "for task in dones:\n",
    "    print(task.result())\n",
    "\n",
    "# 方式二，使用asyncio.gather(*tasks)，接受一堆tasks，tasks也可以是一个列表，使用*解包\n",
    "# task_1 = asyncio.ensure_future(coroutine_1)\n",
    "# task_2 = asyncio.ensure_future(coroutine_2)\n",
    "# task_result_list = loop.run_until_complete(asyncio.gather(task_1, task_2))  # 返回一个列表，里面包含所有task的result()的结果\n",
    "# print(task_result_list)"
   ]
  },
  {
   "cell_type": "raw",
   "metadata": {},
   "source": [
    "上面的执行结果是： 先打印Starting 1，然后等待1秒再次打印Starting 1，Work 1 is running …，Starting 2（这三个是一起出现的，应该是执行太快的原因），由于work2的耗时操作比较短，等待完成后打印Work 2 is running …，接着for循环，再来一轮，work2中再次碰到await，挂起任务，但是work1中的耗时操作还没结束，大家都在等待耗时操作结束，work2正好是2次，2秒，与work1耗时操作同时完成，所以打印Work 1 is running …Work 2 is running …同时出现，最后，第三轮循环，work2等待1秒后打印Work 2 is running …，等待一秒后，work1完成耗时操作，打印Work 1 is running …，异步任务完成。\n"
   ]
  },
  {
   "attachments": {
    "image.png": {
     "image/png": "[encoded data removed]"
    }
   },
   "cell_type": "markdown",
   "metadata": {},
   "source": [
    "![image.png](attachment:image.png)"
   ]
  },
  {
   "cell_type": "markdown",
   "metadata": {},
   "source": [
    "## 协程嵌套"
   ]
  },
  {
   "cell_type": "raw",
   "metadata": {},
   "source": [
    "使用async可以定义协程，协程用于耗时的IO操作。我们也可以封装更多的IO操作过程，在一个协程中await另外一个协程，实现协程的嵌套。"
   ]
  },
  {
   "cell_type": "code",
   "execution_count": 34,
   "metadata": {
    "ExecuteTime": {
     "end_time": "2020-06-14T05:20:27.299654Z",
     "start_time": "2020-06-14T05:20:24.281924Z"
    }
   },
   "outputs": [
    {
     "name": "stdout",
     "output_type": "stream",
     "text": [
      "Work 1 is running ..\n",
      "Work 2 is running ..\n",
      "Work 3 is running ..\n",
      "Work 1 is running ..\n",
      "Work 2 is running ..\n",
      "Work 3 is running ..\n",
      "Work 1 is running ..\n",
      "Work 2 is running ..\n",
      "Work 3 is running ..\n",
      "The task's result is : Work 1 is finished!\n",
      "The task's result is : Work 3 is finished!\n",
      "The task's result is : Work 2 is finished!\n"
     ]
    }
   ],
   "source": [
    "import asyncio, time\n",
    "\n",
    "async def work(x):\n",
    "    for _ in range(3):\n",
    "        print(\"Work {} is running ..\".format(x))\n",
    "        await asyncio.sleep(1)  # 当执行某个协程时，在任务阻塞的时候用await挂起\n",
    "    return \"Work {} is finished!\".format(x)\n",
    "\n",
    "async def main_work():\n",
    "    coroutine_1 = work(1)\n",
    "    coroutine_2 = work(2)\n",
    "    coroutine_3 = work(3)\n",
    "    \n",
    "    tasks = [\n",
    "        asyncio.ensure_future(coroutine_1),\n",
    "        asyncio.ensure_future(coroutine_2),\n",
    "        asyncio.ensure_future(coroutine_3),\n",
    "    ]\n",
    "    \n",
    "    dones, pendings = await asyncio.wait(tasks)\n",
    "    \n",
    "    for task in dones:\n",
    "        print(\"The task's result is : {}\".format(task.result()))\n",
    "        \n",
    "if __name__ == \"__main__\":\n",
    "    loop = asyncio.get_event_loop()\n",
    "    loop.run_until_complete(main_work())"
   ]
  },
  {
   "attachments": {
    "image.png": {
     "image/png": "[encoded data removed]"
    }
   },
   "cell_type": "markdown",
   "metadata": {},
   "source": [
    "![image.png](attachment:image.png)"
   ]
  },
  {
   "cell_type": "code",
   "execution_count": 2,
   "metadata": {
    "ExecuteTime": {
     "end_time": "2020-06-14T08:15:42.492475Z",
     "start_time": "2020-06-14T08:15:39.442643Z"
    }
   },
   "outputs": [
    {
     "name": "stdout",
     "output_type": "stream",
     "text": [
      "Work 2 is running ..\n",
      "Work 1 is running ..\n",
      "Work 3 is running ..\n",
      "Work 2 is running ..\n",
      "Work 1 is running ..\n",
      "Work 3 is running ..\n",
      "Work 2 is running ..\n",
      "Work 1 is running ..\n",
      "Work 3 is running ..\n",
      "The task's result is : Work 2 is finished!\n",
      "The task's result is : Work 1 is finished!\n",
      "The task's result is : Work 3 is finished!\n"
     ]
    }
   ],
   "source": [
    "# 使用as_completed方法\n",
    "\n",
    "import asyncio\n",
    "import nest_asyncio\n",
    "nest_asyncio.apply()\n",
    "\n",
    "async def work(x):\n",
    "    for _ in range(3):\n",
    "        print(\"Work {} is running ..\".format(x))\n",
    "        await asyncio.sleep(1)  # 当执行某个协程时，在任务阻塞的时候用await挂起\n",
    "    return \"Work {} is finished!\".format(x)\n",
    "\n",
    "async def main_work():\n",
    "    coroutine_1 = work(1)\n",
    "    coroutine_2 = work(2)\n",
    "    coroutine_3 = work(3)\n",
    "    \n",
    "    tasks = [\n",
    "        asyncio.ensure_future(coroutine_2),\n",
    "        asyncio.ensure_future(coroutine_1),\n",
    "        asyncio.ensure_future(coroutine_3),\n",
    "    ]\n",
    "\n",
    "    for task in asyncio.as_completed(tasks):  # 返回一个可迭代对象，每次返回最先完成的任务的结果\n",
    "        result = await task\n",
    "        print(f\"The task's result is : {result}\")\n",
    "        \n",
    "if __name__ == \"__main__\":\n",
    "    loop = asyncio.get_event_loop()\n",
    "    loop.run_until_complete(main_work())"
   ]
  },
  {
   "cell_type": "raw",
   "metadata": {},
   "source": [
    "## 对asyncio的异步协程有了基本的了解，这里，结合python3.7的说明文档，对部分知识再做说明。\n",
    "\n",
    "运行协程，asyncio提供了三种主要的机制：\n",
    "\n",
    "1、asyncio.run() 函数用来运行最高层级的入口点，下例的main()函数。此函数总是会创建一个新的事件循环并在结束时关闭之。它应当被用作 asyncio 程序的主入口点，理想情况下应当只被调用一次。\n",
    "\n",
    "2、await 等待一个协程，也可以启动一个协程。"
   ]
  },
  {
   "cell_type": "code",
   "execution_count": 3,
   "metadata": {
    "ExecuteTime": {
     "end_time": "2020-06-14T08:17:07.393872Z",
     "start_time": "2020-06-14T08:17:04.379955Z"
    }
   },
   "outputs": [
    {
     "name": "stdout",
     "output_type": "stream",
     "text": [
      "Started at 16:17:04\n",
      "Task receives the message :'hello' \n",
      "hello\n",
      "Task receives the message :'world' \n",
      "world\n",
      "Finished at time 16:17:07\n"
     ]
    }
   ],
   "source": [
    "import asyncio\n",
    "import time\n",
    "\n",
    "async def work(delay, msg):\n",
    "    print(f\"Task receives the message :'{msg}' \")\n",
    "    await asyncio.sleep(delay)\n",
    "    print(msg)\n",
    "\n",
    "async def main():\n",
    "    print(f\"Started at {time.strftime('%X')}\")\n",
    "    await work(1, \"hello\")  # 启动一个协程，但是这是同步执行的\n",
    "    await work(2, \"world\")\n",
    "    print(f\"Finished at time {time.strftime('%X')}\")\n",
    "\n",
    "asyncio.run(main())\n",
    "# 运行结果：\n",
    "# 先打印print(f\"Task receives the message :'{msg}' \")然后等待1秒后打印“hello”，\n",
    "# 然后再次打印print(f\"Task receives the message :'{msg}' \")等待2秒后打印“world”"
   ]
  },
  {
   "cell_type": "code",
   "execution_count": 4,
   "metadata": {
    "ExecuteTime": {
     "end_time": "2020-06-14T08:18:16.238394Z",
     "start_time": "2020-06-14T08:18:10.204071Z"
    }
   },
   "outputs": [
    {
     "name": "stdout",
     "output_type": "stream",
     "text": [
      "Work 1 is running ..\n",
      "Work 1 is running ..\n",
      "Work 1 is running ..\n",
      "Work 2 is running ..\n",
      "Work 2 is running ..\n",
      "Work 2 is running ..\n",
      "The main thread\n"
     ]
    }
   ],
   "source": [
    "import asyncio\n",
    "\n",
    "async def work(x):  # 通过async关键字定义一个协程\n",
    "    for _ in range(3):\n",
    "        print('Work {} is running ..'.format(x))\n",
    "        await asyncio.sleep(1)\n",
    "\n",
    "coroutine_1 = work(1)  # 协程是一个对象，不能直接运行\n",
    "coroutine_2 = work(2)\n",
    "\n",
    "# 启动一个协程，等待它运行完后，继续往下执行（原因是没有将协程对象加到事件循环里，所以按照程序运行方式，顺序执行）\n",
    "await coroutine_1  \n",
    "await coroutine_2\n",
    "print(\"The main thread\")"
   ]
  },
  {
   "cell_type": "raw",
   "metadata": {},
   "source": [
    "3、asyncio.create_task() 函数用来并发运行作为 asyncio 任务 的多个协程。下例并发运行两个work协程"
   ]
  },
  {
   "cell_type": "code",
   "execution_count": 6,
   "metadata": {
    "ExecuteTime": {
     "end_time": "2020-06-14T08:21:01.203742Z",
     "start_time": "2020-06-14T08:20:58.190869Z"
    }
   },
   "outputs": [
    {
     "name": "stdout",
     "output_type": "stream",
     "text": [
      "Started at 16:20:58\n",
      "Task receives the message :'hello' \n",
      "----1----\n",
      "Task receives the message :'world' \n",
      "----1----\n",
      "----2----\n",
      "hello\n",
      "----3----\n",
      "----2----\n",
      "world\n",
      "----4----\n",
      "Finished at time 16:21:01\n"
     ]
    }
   ],
   "source": [
    "import asyncio\n",
    "import time\n",
    "\n",
    "# ensure_future python3.6 利用它创建协程 而python3.7用create_task\n",
    "\n",
    "async def work(delay, msg):\n",
    "    print(f\"Task receives the message :'{msg}' \")\n",
    "    print(\"----1----\")\n",
    "    await asyncio.sleep(delay)\n",
    "    print(\"----2----\")\n",
    "    print(msg)\n",
    "\n",
    "async def main():\n",
    "    task1 = asyncio.ensure_future(work(1, \"hello\"))\n",
    "    task2 = asyncio.ensure_future(work(3, \"world\"))\n",
    "    print(f\"Started at {time.strftime('%X')}\")\n",
    "    await task1  # 此时并发运行task1和task2\n",
    "    print(\"----3----\")\n",
    "    await task2\n",
    "    print(\"----4----\")\n",
    "    print(f\"Finished at time {time.strftime('%X')}\")\n",
    "\n",
    "asyncio.run(main())\n",
    "          \n",
    "# 运行结果说明，首先asyncio.run(main())创建一个事件循环，并以main为主要程序入口，\n",
    "# 在main中，\n",
    "# 1、创建俩个任务task1和task2，并加入到事件循环中，\n",
    "# 2、打印Started at 11:16:08\n",
    "# 3、执行await task1，此时是并发运行了task1和task2了，"
   ]
  },
  {
   "attachments": {
    "image.png": {
     "image/png": "[encoded data removed]"
    }
   },
   "cell_type": "markdown",
   "metadata": {},
   "source": [
    "![image.png](attachment:image.png)"
   ]
  },
  {
   "cell_type": "code",
   "execution_count": 8,
   "metadata": {
    "ExecuteTime": {
     "end_time": "2020-06-14T08:32:43.419092Z",
     "start_time": "2020-06-14T08:32:37.403782Z"
    }
   },
   "outputs": [
    {
     "name": "stdout",
     "output_type": "stream",
     "text": [
      "Work 1 is running ..\n",
      "Work 2 is running ..\n",
      "Work 1 is running ..\n",
      "Work 2 is running ..\n",
      "Work 1 is running ..\n",
      "Work 2 is running ..\n",
      "The main thread\n"
     ]
    }
   ],
   "source": [
    "import asyncio\n",
    "\n",
    "async def work(x):  # 通过async关键字定义一个协程\n",
    "    for _ in range(3):\n",
    "        print('Work {} is running ..'.format(x))\n",
    "        await asyncio.sleep(x)\n",
    "\n",
    "coroutine_1 = work(1)  # 协程是一个对象，不能直接运行\n",
    "coroutine_2 = work(2)\n",
    "\n",
    "task1 = asyncio.ensure_future(coroutine_1)  # 将事件加入了运行队列里，可以并发运行\n",
    "task2 = asyncio.ensure_future(coroutine_2)\n",
    "\n",
    "await task1  # 并发运行\n",
    "await task2\n",
    "print(\"The main thread\")"
   ]
  },
  {
   "cell_type": "raw",
   "metadata": {},
   "source": [
    "可等待对象： 如果一个对象可以在 await 语句中使用，那么它就是 可等待 对象。许多 asyncio API 都被设计为接受可等待对象。\n",
    "\n",
    "可等待 对象有三种主要类型: 协程, 任务 和 Future ."
   ]
  },
  {
   "cell_type": "markdown",
   "metadata": {},
   "source": [
    "# 可等待对象有三种主要类型: 协程, 任务 和 Future ."
   ]
  },
  {
   "cell_type": "markdown",
   "metadata": {},
   "source": [
    "## 协程：python中的协程属于 可等待 对象，所以可以在其他协程中被等待"
   ]
  },
  {
   "cell_type": "code",
   "execution_count": 9,
   "metadata": {
    "ExecuteTime": {
     "end_time": "2020-06-14T08:34:05.080415Z",
     "start_time": "2020-06-14T08:34:05.075606Z"
    }
   },
   "outputs": [
    {
     "name": "stdout",
     "output_type": "stream",
     "text": [
      "42\n"
     ]
    }
   ],
   "source": [
    "import asyncio\n",
    "\n",
    "async def nested():  # async def定义一个协程函数，调用它返回的是协程对象\n",
    "    return 42\n",
    "\n",
    "async def main():\n",
    "    # 直接运行nested()不会得到任何结果，这位这是一个协程对象（协程对象：调用协程函数所返回的对象）\n",
    "#     nested()\n",
    "\n",
    "    # await 后面接的是协程，所以他是一个可等待对象，因此可以在其他协程中被等待\n",
    "    print(await nested())  # will print \"42\".\n",
    "\n",
    "asyncio.run(main())  # asyncio.run()运行一个协程"
   ]
  },
  {
   "cell_type": "markdown",
   "metadata": {},
   "source": [
    "## 任务: 是用来设置日程以便 并发 执行协程"
   ]
  },
  {
   "cell_type": "code",
   "execution_count": 11,
   "metadata": {
    "ExecuteTime": {
     "end_time": "2020-06-14T08:35:38.825846Z",
     "start_time": "2020-06-14T08:35:37.810668Z"
    }
   },
   "outputs": [
    {
     "name": "stdout",
     "output_type": "stream",
     "text": [
      "main\n",
      "nested1\n",
      "nested2\n",
      "nested3\n",
      "nested4\n",
      "nested1 is finished!\n",
      "nested2 is finished!\n",
      "nested3 is finished!\n",
      "nested4 is finished!\n",
      "1\n",
      "2\n",
      "3\n",
      "4\n"
     ]
    }
   ],
   "source": [
    "# 当一个协程通过 asyncio.create_task() 等函数被打包为一个 任务，该协程将自动排入日程准备立即运行:\n",
    "import asyncio\n",
    "\n",
    "async def nested1():\n",
    "    print(\"nested1\")\n",
    "    await asyncio.sleep(0.5)\n",
    "    print(\"nested1 is finished!\")\n",
    "    return 1\n",
    "\n",
    "async def nested2():\n",
    "    print(\"nested2\")\n",
    "    await asyncio.sleep(0.5)\n",
    "    print(\"nested2 is finished!\")\n",
    "    return 2\n",
    "\n",
    "async def nested3():\n",
    "    print(\"nested3\")\n",
    "    await asyncio.sleep(0.5)\n",
    "    print(\"nested3 is finished!\")\n",
    "    return 3\n",
    "\n",
    "async def nested4():\n",
    "    print(\"nested4\")\n",
    "    await asyncio.sleep(0.5)\n",
    "    print(\"nested4 is finished!\")\n",
    "    return 4\n",
    "\n",
    "async def main():\n",
    "    # Schedule nested() to run soon concurrently\n",
    "    # with \"main()\".\n",
    "    print(\"main\")\n",
    "\n",
    "    task1 = asyncio.ensure_future(nested1())  # 使用asyncio.ensure_future将函数打包成一个任务，该协程将自动排入日程等待运行\n",
    "    task2 = asyncio.ensure_future(nested2())\n",
    "    task3 = asyncio.ensure_future(nested3())\n",
    "    task4 = asyncio.ensure_future(nested4())\n",
    "    \n",
    "    await asyncio.sleep(1)  # 在main这个协程中，碰到耗时操作，则挂起任务，执行其他任务，即：task1 or task2 or task3 or task4\n",
    "    \n",
    "    # \"task\" can now be used to cancel \"nested()\", or\n",
    "    # can simply be awaited to wait until it is complete:\n",
    "    print(await task1)  # 等待 task1 如果task1中存在耗时操作，则挂起\n",
    "    print(await task2)\n",
    "    print(await task3)\n",
    "    print(await task4)\n",
    "\n",
    "asyncio.run(main())  # 并发运行这个5个协程，运行最高层级的入口点main函数"
   ]
  },
  {
   "cell_type": "code",
   "execution_count": 12,
   "metadata": {
    "ExecuteTime": {
     "end_time": "2020-06-14T09:12:53.458689Z",
     "start_time": "2020-06-14T09:12:53.455265Z"
    }
   },
   "outputs": [],
   "source": [
    "# Future对象 Future 是一种特殊的 低层级 可等待对象，表示一个异步操作的 最终结果。\n",
    "# 当一个 Future 对象 被等待，这意味着协程将保持等待直到该 Future 对象在其他地方操作完毕。\n",
    "# 用法：\n",
    "async def main():\n",
    "    await function_that_returns_a_future_object()  # 返回future对象的函数，比如线程池里的submit函数返回的就是一个future对象\n",
    "\n",
    "    # this is also valid:\n",
    "    await asyncio.gather(\n",
    "        function_that_returns_a_future_object(),\n",
    "        some_python_coroutine()  # 一些python协程\n",
    "    )"
   ]
  },
  {
   "cell_type": "raw",
   "metadata": {},
   "source": [
    "至此，对await关键字有一些理解，简单的说，await就是挂起当前任务，去执行其他任务，此时是堵塞的，必须要等其他任务执行完毕才能返回到当前任务继续往下执行，这样的说的前提是，在一个时间循环中有多个task或future，当await右面等待的对象是协程对象时，就没有了并发的作用，就是堵塞等待这个协程对象完成。"
   ]
  },
  {
   "cell_type": "code",
   "execution_count": null,
   "metadata": {},
   "outputs": [],
   "source": []
  }
 ],
 "metadata": {
  "kernelspec": {
   "display_name": "python368",
   "language": "python",
   "name": "python368"
  },
  "language_info": {
   "codemirror_mode": {
    "name": "ipython",
    "version": 3
   },
   "file_extension": ".py",
   "mimetype": "text/x-python",
   "name": "python",
   "nbconvert_exporter": "python",
   "pygments_lexer": "ipython3",
   "version": "3.6.8"
  },
  "toc": {
   "base_numbering": 1,
   "nav_menu": {},
   "number_sections": true,
   "sideBar": true,
   "skip_h1_title": false,
   "title_cell": "Table of Contents",
   "title_sidebar": "Contents",
   "toc_cell": false,
   "toc_position": {},
   "toc_section_display": true,
   "toc_window_display": false
  }
 },
 "nbformat": 4,
 "nbformat_minor": 4
}
