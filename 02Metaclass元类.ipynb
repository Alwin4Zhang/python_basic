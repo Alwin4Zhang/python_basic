{
 "cells": [
  {
   "cell_type": "markdown",
   "metadata": {},
   "source": [
    "# 1"
   ]
  },
  {
   "cell_type": "code",
   "execution_count": 3,
   "metadata": {},
   "outputs": [],
   "source": [
    "class Mymeta(type): # 只有继承了type类才能称之为一个元类，否则就是一个普通的自定义类\n",
    "    def __call__(self,*args,**kwargs):\n",
    "        print('self:\\t',self)\n",
    "        print('args:\\t',args)\n",
    "        print('kwargs:\\t',kwargs)\n",
    "        return 123\n",
    "    \n",
    "class OldboyTeacher(object,metaclass=Mymeta):\n",
    "    school = 'oldboy'\n",
    "    \n",
    "    def __init__(self,name,age):\n",
    "        self.name = name\n",
    "        self.age = age\n",
    "        \n",
    "    def say(self):\n",
    "        print('%s says welcome to the oldboy to learn Python' %self.name)"
   ]
  },
  {
   "cell_type": "code",
   "execution_count": 6,
   "metadata": {},
   "outputs": [
    {
     "name": "stdout",
     "output_type": "stream",
     "text": [
      "self:\t <class '__main__.OldboyTeacher'>\n",
      "args:\t ('egon', 18)\n",
      "kwargs:\t {'name': 'zhangsan', 'age': 20}\n"
     ]
    },
    {
     "data": {
      "text/plain": [
       "123"
      ]
     },
     "execution_count": 6,
     "metadata": {},
     "output_type": "execute_result"
    }
   ],
   "source": [
    "# 调用OldboyTeacher就是在调用OldboyTeacher类中的__call__方法\n",
    "# 然后将OldboyTeacher传给self,溢出的位置参数传给*，溢出的关键字参数传给**\n",
    "# 调用OldboyTeacher的返回值就是调用__call__的返回值\n",
    "\n",
    "t1 = OldboyTeacher('egon',18,name='zhangsan',age=20)\n",
    "t1"
   ]
  },
  {
   "cell_type": "raw",
   "metadata": {},
   "source": [
    "默认地，调用t1=OldboyTeacher('egon',18)会做三件事\n",
    "\n",
    "1、产生一个空对象obj\n",
    "\n",
    "2、调用__init__方法初始化对象obj\n",
    "\n",
    "3、返回初始化好的obj\n",
    "\n",
    "对应着，OldboyTeacher类中的__call__方法也应该做这三件事"
   ]
  },
  {
   "cell_type": "markdown",
   "metadata": {},
   "source": [
    "# 2"
   ]
  },
  {
   "cell_type": "code",
   "execution_count": 7,
   "metadata": {},
   "outputs": [
    {
     "name": "stdout",
     "output_type": "stream",
     "text": [
      "{'name': 'egon', 'age': 18}\n"
     ]
    }
   ],
   "source": [
    "class Mymeta(type):\n",
    "    def __call__(self, *args, **kwargs):\n",
    "        # 1、调用__new__产生一个空对象obj\n",
    "        # 此处的self是类OldoyTeacher，必须传参，代表创建一个OldboyTeacher的对象obj\n",
    "        obj = self.__new__(self)\n",
    "        \n",
    "        # 2、调用__init__初始化空对象obj\n",
    "        self.__init__(obj,*args,**kwargs)\n",
    "        \n",
    "        # 3、返回初始化好的对象obj\n",
    "        return obj\n",
    "\n",
    "class OldboyTeacher(object,metaclass=Mymeta):\n",
    "    school = 'oldboy'\n",
    "    \n",
    "    def __init__(self,name,age):\n",
    "        self.name = name\n",
    "        self.age = age\n",
    "        \n",
    "    def say(self):\n",
    "        print('%s says welcome to the oldboy to learn Python' %self.name)\n",
    "\n",
    "t1 = OldboyTeacher('egon',18)\n",
    "print(t1.__dict__)"
   ]
  },
  {
   "cell_type": "markdown",
   "metadata": {},
   "source": [
    "# 3"
   ]
  },
  {
   "cell_type": "raw",
   "metadata": {},
   "source": [
    "上例的__call__相当于一个模板，我们可以在该基础上改写__call__的逻辑从而控制调用OldboyTeacher的过程，比如将OldboyTeacher的对象的所有属性都变成私有的"
   ]
  },
  {
   "cell_type": "code",
   "execution_count": 8,
   "metadata": {},
   "outputs": [
    {
     "data": {
      "text/plain": [
       "{'_OldboyTeacher__name': 'egon', '_OldboyTeacher__age': 18}"
      ]
     },
     "execution_count": 8,
     "metadata": {},
     "output_type": "execute_result"
    }
   ],
   "source": [
    "class Mymeta(type):\n",
    "    def __call__(self,*args,**kwargs):\n",
    "        # 1.调用__new__产生一个空对象Obj\n",
    "        obj = self.__new__(self)\n",
    "        \n",
    "        # 2.调用__init__初始化空对象obj\n",
    "        self.__init__(obj,*args,**kwargs)\n",
    "        \n",
    "        # 在初始化之后,obj.__dict__里就有值了\n",
    "        obj.__dict__ = {'_%s__%s'%(self.__name__,k):v for k,v in obj.__dict__.items()}\n",
    "        \n",
    "        # 3.返回初始化好的对象obj\n",
    "        return obj\n",
    "    \n",
    "class OldboyTeacher(object,metaclass=Mymeta):\n",
    "    school = 'oldboy'\n",
    "    \n",
    "    def __init__(self,name,age):\n",
    "        self.name = name\n",
    "        self.age = age\n",
    "        \n",
    "    def say(self):\n",
    "        print('%s says welcome to the oldboy to learn Python' %self.name)\n",
    "        \n",
    "t1 = OldboyTeacher('egon',18)\n",
    "t1.__dict__"
   ]
  },
  {
   "cell_type": "markdown",
   "metadata": {},
   "source": [
    "# metaclass创建自己的orm"
   ]
  },
  {
   "cell_type": "code",
   "execution_count": 5,
   "metadata": {
    "ExecuteTime": {
     "end_time": "2020-05-30T08:32:43.962145Z",
     "start_time": "2020-05-30T08:32:43.956593Z"
    }
   },
   "outputs": [],
   "source": [
    "\"\"\"\n",
    "当我们定义了类以后，就可以根据这个类创建出实例，所以：先定义类，然后创建实例。\n",
    "\n",
    "但是如果我们想创建出类呢？那就必须根据metaclass创建出类，所以：先定义metaclass，然后创建类。\n",
    "\n",
    "连接起来就是：先定义metaclass，就可以创建类，最后创建实例。\n",
    "\n",
    "所以，metaclass允许你创建类或者修改类。换句话说，你可以把类看成是metaclass创建出来的“实例”。\n",
    "\n",
    "metaclass是Python面向对象里最难理解，也是最难使用的魔术代码。\n",
    "正常情况下，你不会碰到需要使用metaclass的情况，所以，以下内容看不懂也没关系，因为基本上你不会用到。\n",
    "\n",
    "我们先看一个简单的例子，这个metaclass可以给我们自定义的MyList增加一个add方法：\n",
    "\n",
    "定义ListMetaclass，按照默认习惯，metaclass的类名总是以Metaclass结尾，以便清楚地表示这是一个metaclass：\n",
    "\"\"\"\n",
    "\n",
    "class ListMetaclass(type):\n",
    "    def __new__(cls,name,bases,attrs):\n",
    "        attrs[\"add\"] = lambda self,value:self.append(value)\n",
    "        return type.__new__(cls,name,bases,attrs)\n",
    "    \n",
    "\"有了ListMetaclass，我们在定义类的时候还要指示使用ListMetaclass来定制类，传入关键字参数metaclass：\"\n",
    "class MyList(list,metaclass=ListMetaclass):\n",
    "    pass"
   ]
  },
  {
   "cell_type": "code",
   "execution_count": 9,
   "metadata": {
    "ExecuteTime": {
     "end_time": "2020-05-30T08:41:19.683262Z",
     "start_time": "2020-05-30T08:41:19.674562Z"
    }
   },
   "outputs": [
    {
     "name": "stdout",
     "output_type": "stream",
     "text": [
      "[1]\n"
     ]
    },
    {
     "ename": "AttributeError",
     "evalue": "'list' object has no attribute 'add'",
     "output_type": "error",
     "traceback": [
      "\u001b[0;31m---------------------------------------------------------------------------\u001b[0m",
      "\u001b[0;31mAttributeError\u001b[0m                            Traceback (most recent call last)",
      "\u001b[0;32m<ipython-input-9-7eb49c0f5803>\u001b[0m in \u001b[0;36m<module>\u001b[0;34m\u001b[0m\n\u001b[1;32m     17\u001b[0m \u001b[0;31m# 而普通的list没有add方法\u001b[0m\u001b[0;34m\u001b[0m\u001b[0;34m\u001b[0m\u001b[0;34m\u001b[0m\u001b[0m\n\u001b[1;32m     18\u001b[0m \u001b[0mL2\u001b[0m \u001b[0;34m=\u001b[0m \u001b[0mlist\u001b[0m\u001b[0;34m(\u001b[0m\u001b[0;34m)\u001b[0m\u001b[0;34m\u001b[0m\u001b[0;34m\u001b[0m\u001b[0m\n\u001b[0;32m---> 19\u001b[0;31m \u001b[0mL2\u001b[0m\u001b[0;34m.\u001b[0m\u001b[0madd\u001b[0m\u001b[0;34m(\u001b[0m\u001b[0;36m1\u001b[0m\u001b[0;34m)\u001b[0m\u001b[0;34m\u001b[0m\u001b[0;34m\u001b[0m\u001b[0m\n\u001b[0m",
      "\u001b[0;31mAttributeError\u001b[0m: 'list' object has no attribute 'add'"
     ]
    }
   ],
   "source": [
    "\"\"\"\n",
    "当我们传入关键词参数metaclass时，魔术就生效了，它指示Python解释器在创建MyList时，要通过ListMetaclass.__new__()来创建，\n",
    "在此，我们可以修改类的定义，比如，加上新的方法，然后，返回修改后的定义\n",
    "\n",
    "__new__() 方法接收到的参数依次是：\n",
    "1.当前准备创建的类的对象\n",
    "2.类的名字\n",
    "3.类继承的父类集合\n",
    "4.类的方法集合\n",
    "\"\"\"\n",
    "\n",
    "# 测试一下MyList是否可以调用add() 方法\n",
    "L = MyList()\n",
    "L.add(1)\n",
    "print(L)\n",
    "\n",
    "# 而普通的list没有add方法\n",
    "L2 = list()\n",
    "L2.add(1)"
   ]
  },
  {
   "cell_type": "raw",
   "metadata": {},
   "source": [
    "\"\"\"\n",
    "动态修改有什么意义？直接在MyList定义上写一个add()方法不是更简单嘛？正常情况下，确实是应该直接写，通过metaclass修改纯属变态\n",
    "但是，总会遇到通过metaclass修改类定义的。ORM就是一个典型的例子。\n",
    "\n",
    "ORM全称“Object Relational Mapping”，即对象-关系映射，\n",
    "就是把关系数据库的一行映射为一个对象，也就是一个类对应一个表，这样，写代码更简单，不用直接操作SQL语句。\n",
    "\n",
    "要编写一个ORM框架，所有的类都只能动态定义，因为只有使用者才能根据表的结构定义出对应的类来。\n",
    "让我们来尝试编写一个ORM框架\n",
    "\n",
    "编写底层模块的第一步，就是先把调用接口写出来。\n",
    "比如，使用者如果使用这个ORM框架，想定义一个User类来操作对应的数据库表User，我们期待他写出这样的代码：\n",
    "\"\"\"\n",
    "\n",
    "class User(Model):\n",
    "    # 定义类的属性到列的映射\n",
    "    id = IntegerField(\"id\")\n",
    "    name = StringField(\"username\")\n",
    "    email = StringField(\"email\")\n",
    "    password = StringField(\"password\")\n",
    "    \n",
    "# 创建一个实例\n",
    "u = User(id=12345,name=\"Michael\",email=\"test@orm.org\",password=\"my-pwd\")\n",
    "# 保存到数据库\n",
    "u.save()\n",
    "\n",
    "其中，父类Model和属性类型StringField、IntegerField是由ORM框架提供的，\n",
    "剩下的魔术方法比如save()全部由metaclass自动完成。虽然metaclass的编写会比较复杂，但ORM的使用者用起来却异常简单。\n",
    "\n",
    "现在，我们就按上面的接口来实现该ORM。\n",
    "\n",
    "首先来定义Field类，它负责保存数据库表的字段名和字段类型："
   ]
  },
  {
   "cell_type": "code",
   "execution_count": 11,
   "metadata": {
    "ExecuteTime": {
     "end_time": "2020-05-30T09:05:54.674084Z",
     "start_time": "2020-05-30T09:05:54.655179Z"
    }
   },
   "outputs": [],
   "source": [
    "class Field(object):\n",
    "    def __init__(self,name,column_type):\n",
    "        self.name = name\n",
    "        self.column_type = column_type\n",
    "    \n",
    "    def __str__(self):\n",
    "        return \"<%s:%s>\"%(self.__class__.__name__,self.name)\n",
    "\n",
    "# 在Field的基础上，进一步定义各种类型的field 比如stringField，IntegerField等等\n",
    "class StringField(Field):\n",
    "    def __init__(self,name):\n",
    "        super(StringField,self).__init__(name,\"varchar(100)\")\n",
    "        \n",
    "class IntegerField(Field):\n",
    "    def __init__(self,name):\n",
    "        super(IntegerField,self).__init__(name,\"bigint\")\n",
    "    \n",
    "# 下一步，就是编写最复杂的ModelMetaclass了:\n",
    "class ModelMetaclass(type):\n",
    "    def __new__(cls,name,bases,attrs):\n",
    "        if name == \"Model\": # Model直接返回创建类  非Model类需要遍历\n",
    "            return type.__new__(cls,name,bases,attrs)\n",
    "        print(\"Found Model:%s\"%name)\n",
    "        mappings = dict()\n",
    "        for k,v in attrs.items():\n",
    "            if isinstance(v,Field):\n",
    "                print(\"Found mapping%s===>%s\"%(k,v))\n",
    "                mappings[k] = v\n",
    "        for k in mappings:\n",
    "            attrs.pop(k)\n",
    "        \n",
    "        attrs[\"__mappings__\"] = mappings # 保存属性和列的映射关系\n",
    "        attrs[\"__table__\"] = name # 假设表名和类名一致\n",
    "        return type.__new__(cls,name,bases,attrs)\n",
    "    \n",
    "# 以及基类Model:\n",
    "class Model(dict,metaclass=ModelMetaclass):\n",
    "    def __init__(self,**kw):\n",
    "        super(Model,self).__init__(**kw)\n",
    "    \n",
    "    def __getattr__(self,key):\n",
    "        try:\n",
    "            return self[key]\n",
    "        except KeyError:\n",
    "            raise AttributeError(r\"Model object has no attribute %s\"%key)\n",
    "    \n",
    "    def __setattr__(self,key,value):\n",
    "        self[key] = value # 创建类时已经将key value映射\n",
    "    \n",
    "    def save(self):\n",
    "        fields = []\n",
    "        params = []\n",
    "        args = []\n",
    "        for k,v in self.__mappings__.items():\n",
    "            fields.append(v.name)\n",
    "            params.append(\"?\")\n",
    "            args.append(getattr(self,k,None))\n",
    "        sql = \"insert into %s(%s) values(%s)\"%(self.__table__,\",\".join(fields),\",\".join(params))\n",
    "        print(\"SQL:%s\"%sql)\n",
    "        print(\"ARGS:%s\"%str(args))"
   ]
  },
  {
   "cell_type": "code",
   "execution_count": 17,
   "metadata": {
    "ExecuteTime": {
     "end_time": "2020-05-30T09:35:22.939664Z",
     "start_time": "2020-05-30T09:35:22.933004Z"
    }
   },
   "outputs": [
    {
     "name": "stdout",
     "output_type": "stream",
     "text": [
      "Found Model:User\n",
      "Found mappingLid===><IntegerField:id>\n",
      "Found mappingLname===><StringField:username>\n",
      "Found mappingLemail===><StringField:email>\n",
      "Found mappingLpassword===><StringField:password>\n",
      "SQL:insert into User(id,username,email,password) values(?,?,?,?)\n",
      "ARGS:[12345, 'Michael', 'test@orm.org', 'my-pwd']\n"
     ]
    }
   ],
   "source": [
    "\"\"\"\n",
    "当用户定义一个class User(Model)时，Python解释器首先在当前类User的定义中查找metaclass，\n",
    "如果没有找到，就继续在父类Model中查找metaclass，找到了，\n",
    "就使用Model中定义的metaclass的ModelMetaclass来创建User类，\n",
    "也就是说，metaclass可以隐式地继承到子类，但子类自己却感觉不到。\n",
    "\n",
    "在ModelMetaclass中，一共做了几件事情：\n",
    "\n",
    "1.排除掉对Model类的修改；\n",
    "\n",
    "2.在当前类（比如User）中查找定义的类的所有属性，\n",
    "如果找到一个Field属性，就把它保存到一个__mappings__的dict中，\n",
    "同时从类属性中删除该Field属性，否则，容易造成运行时错误（实例的属性会遮盖类的同名属性）；\n",
    "\n",
    "3.把表名保存到__table__中，这里简化为表名默认为类名。\n",
    "\n",
    "在Model类中，就可以定义各种操作数据库的方法，比如save()，delete()，find()，update等等。\n",
    "\n",
    "我们实现了save()方法，把一个实例保存到数据库中。因为有表名，属性到字段的映射和属性值的集合，就可以构造出INSERT语句。\n",
    "\"\"\"\n",
    "\n",
    "class User(Model):\n",
    "    # 定义类的属性到列的映射\n",
    "    id = IntegerField(\"id\")\n",
    "    name = StringField(\"username\")\n",
    "    email = StringField(\"email\")\n",
    "    password = StringField(\"password\")\n",
    "    \n",
    "u = User(id=12345, name='Michael', email='test@orm.org', password='my-pwd')\n",
    "u.save()\n",
    "\n",
    "\"\"\"\n",
    "执行过程\n",
    "1.metaclass先创建Model类\n",
    "2.以此创建Field各个子类\n",
    "3.metaclass创建User类 User类中的attrs对应的是各个field的key value 如下：\n",
    "'id':<__main__.IntegerField object at 0x10d6f2790>\n",
    "'name':<__main__.StringField object at 0x10db8db10>\n",
    "'email':<__main__.StringField object at 0x10d211450>\n",
    "'password':<__main__.StringField object at 0x10e5eec50>\n",
    "\"\"\""
   ]
  },
  {
   "cell_type": "code",
   "execution_count": null,
   "metadata": {},
   "outputs": [],
   "source": []
  }
 ],
 "metadata": {
  "kernelspec": {
   "display_name": "Python 3",
   "language": "python",
   "name": "python3"
  },
  "language_info": {
   "codemirror_mode": {
    "name": "ipython",
    "version": 3
   },
   "file_extension": ".py",
   "mimetype": "text/x-python",
   "name": "python",
   "nbconvert_exporter": "python",
   "pygments_lexer": "ipython3",
   "version": "3.7.7"
  },
  "toc": {
   "base_numbering": 1,
   "nav_menu": {},
   "number_sections": true,
   "sideBar": true,
   "skip_h1_title": false,
   "title_cell": "Table of Contents",
   "title_sidebar": "Contents",
   "toc_cell": false,
   "toc_position": {},
   "toc_section_display": true,
   "toc_window_display": false
  }
 },
 "nbformat": 4,
 "nbformat_minor": 4
}
